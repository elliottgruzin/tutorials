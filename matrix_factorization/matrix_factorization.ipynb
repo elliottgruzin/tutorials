{
 "cells": [
  {
   "cell_type": "code",
   "execution_count": 30,
   "metadata": {
    "_cell_guid": "b1076dfc-b9ad-4769-8c92-a6c4dae69d19",
    "_uuid": "8f2839f25d086af736a60e9eeb907d3b93b6e0e5",
    "id": "e-W_CHdBe82T",
    "outputId": "a790d3ac-672e-4af8-9604-37a5654246a0"
   },
   "outputs": [],
   "source": [
    "import torch\n",
    "import re\n",
    "import tqdm"
   ]
  },
  {
   "cell_type": "markdown",
   "metadata": {
    "id": "nwTJ9mS5e82U"
   },
   "source": [
    "## Part 1: Data\n",
    "\n",
    "We iterate through the Netflix dataset text files and prepare the matrix M, a matrix with columns of movies and users. If a user has watched a movie, the index corresponding to the (movie, user) pair will be set to 1, else 0.\n",
    "\n",
    "### Data prep\n",
    "\n",
    "We do a simple regex to get the movie patterns and then find all the users that have watched that movie."
   ]
  },
  {
   "cell_type": "code",
   "execution_count": 31,
   "metadata": {
    "id": "OWl2KHtMe82V"
   },
   "outputs": [],
   "source": [
    "movie_expression = re.compile(r\"(\\d+):\")\n",
    "\n",
    "def parse(lines: list):\n",
    "    movie_id = None\n",
    "    movies_and_users = []\n",
    "    for line in tqdm.tqdm(lines):\n",
    "        is_movie = movie_expression.search(line)\n",
    "        if is_movie:\n",
    "            movie_id = is_movie.groups()[0]\n",
    "            continue\n",
    "        user_id, _, _ = line.split(',')\n",
    "        movies_and_users.append((int(movie_id), int(user_id)))\n",
    "    return movies_and_users"
   ]
  },
  {
   "cell_type": "code",
   "execution_count": 32,
   "metadata": {
    "id": "byE-so_ee82V",
    "outputId": "fad7273a-77bd-46b7-8195-cd1bcf4a3792"
   },
   "outputs": [
    {
     "name": "stdout",
     "output_type": "stream",
     "text": [
      "processing file dataset/combined_data_3.txt\n"
     ]
    },
    {
     "name": "stderr",
     "output_type": "stream",
     "text": [
      "100%|██████████| 260578/260578 [00:00<00:00, 454040.59it/s]"
     ]
    },
    {
     "name": "stdout",
     "output_type": "stream",
     "text": [
      "completed processing file dataset/combined_data_3.txt\n"
     ]
    },
    {
     "name": "stderr",
     "output_type": "stream",
     "text": [
      "\n"
     ]
    }
   ],
   "source": [
    "files = [\n",
    "    \"dataset/combined_data_3.txt\", # uncomment the below line to process the full dataset, but be warned it's huge.\n",
    "#     \"/kaggle/input/netflix-prize-data/combined_data_4.txt\", \"/kaggle/input/netflix-prize-data/combined_data_1.txt\", \"/kaggle/input/netflix-prize-data/combined_data_2.txt\"\n",
    "]\n",
    "movies_and_users = []\n",
    "for f in files:\n",
    "    print(f'processing file {f}')\n",
    "    with open(f, \"r\") as raw_text:\n",
    "        lines = raw_text.readlines()\n",
    "    movies_and_users.extend(parse(lines[:260578])) # even just one file is BIG so I've just been taking a subset of ~250,000 lines, remove the slice to process the full file\n",
    "    print(f'completed processing file {f}')\n"
   ]
  },
  {
   "cell_type": "code",
   "execution_count": 33,
   "metadata": {
    "id": "cflIMjOae82V",
    "outputId": "5a49ca34-1f59-4a12-96a6-a20498a27f39"
   },
   "outputs": [],
   "source": [
    "movies, users = zip(*movies_and_users)"
   ]
  },
  {
   "cell_type": "code",
   "execution_count": 34,
   "metadata": {
    "id": "Rw5nAqM8e82W",
    "outputId": "1b92ab82-ea6e-42a7-a2ae-da40f0f6c1f3"
   },
   "outputs": [
    {
     "name": "stdout",
     "output_type": "stream",
     "text": [
      "[(9211, 1277134), (9211, 2435457), (9211, 2338545), (9211, 2218269), (9211, 441153), (9211, 1921624), (9211, 2096652), (9211, 818736), (9211, 284560), (9211, 1211224)]\n",
      "(9211, 9211, 9211, 9211, 9211)\n",
      "(1277134, 2435457, 2338545, 2218269, 441153)\n"
     ]
    }
   ],
   "source": [
    "print(movies_and_users[:10])\n",
    "print(movies[:5])\n",
    "print(users[:5])"
   ]
  },
  {
   "cell_type": "markdown",
   "metadata": {},
   "source": [
    "We now have movie/user pairs. However, we need to turn the IDs into indexes. Lets do that below to convert this data into something we can index into a matrix."
   ]
  },
  {
   "cell_type": "code",
   "execution_count": 35,
   "metadata": {
    "id": "DkjDWcoRe82W"
   },
   "outputs": [],
   "source": [
    "unique_movies = sorted(list(set(movies)))\n",
    "unique_users = sorted(list(set(users)))\n",
    "\n",
    "movie_to_idx = {movie: i for i, movie in enumerate(unique_movies)}\n",
    "user_to_idx = {user: i for i, user in enumerate(unique_users)}\n",
    "\n",
    "normalised_movies = [movie_to_idx[m] for m in movies]\n",
    "normalised_users = [user_to_idx[u] for u in users]\n",
    "\n",
    "normalised_movies_and_users = list(zip(normalised_movies, normalised_users))"
   ]
  },
  {
   "cell_type": "markdown",
   "metadata": {},
   "source": [
    "Now we need to create the matrix M representing the co-occurrence of a movie and a user."
   ]
  },
  {
   "cell_type": "code",
   "execution_count": 36,
   "metadata": {
    "id": "v9NYgHLDe82W",
    "outputId": "664daa05-8165-49e6-8653-e8ed8e82d1a2"
   },
   "outputs": [
    {
     "data": {
      "text/plain": [
       "torch.Size([55, 142475])"
      ]
     },
     "execution_count": 36,
     "metadata": {},
     "output_type": "execute_result"
    }
   ],
   "source": [
    "M = torch.zeros(len(unique_movies), len(unique_users))\n",
    "M.shape"
   ]
  },
  {
   "cell_type": "markdown",
   "metadata": {},
   "source": [
    "Lets populate the matrix."
   ]
  },
  {
   "cell_type": "code",
   "execution_count": 37,
   "metadata": {
    "id": "G7XcYN7oe82W"
   },
   "outputs": [],
   "source": [
    "for movie, user in normalised_movies_and_users:\n",
    "    M[movie, user] = 1"
   ]
  },
  {
   "cell_type": "markdown",
   "metadata": {
    "id": "_Zqhwngye82X"
   },
   "source": [
    "# Recommendation\n",
    "\n",
    "We have generated a matrix M of all films and all viewers, with the value of each index *i,j* corresponding to whether a given user *i* watched film *j*. This matrix is factorised into two smaller matrices U, F which represent embeddings for users and films respectively. We can iteratively hold each matrix constant while we tune the other to better match the results in M.\n",
    "\n",
    "First, lets create our smaller matrices U and F."
   ]
  },
  {
   "cell_type": "code",
   "execution_count": 38,
   "metadata": {},
   "outputs": [],
   "source": [
    "device = torch.device(\"cuda\" if torch.cuda.is_available() else \"cpu\")"
   ]
  },
  {
   "cell_type": "code",
   "execution_count": 39,
   "metadata": {
    "id": "Cwbwky6Te82X"
   },
   "outputs": [],
   "source": [
    "embedding_dimension = 200\n",
    "\n",
    "U = torch.randn(len(unique_users), embedding_dimension, requires_grad=True, device=device)\n",
    "F = torch.randn(len(unique_movies), embedding_dimension, requires_grad=True, device=device)"
   ]
  },
  {
   "cell_type": "code",
   "execution_count": 40,
   "metadata": {
    "id": "_umWgQeoe82X",
    "outputId": "06234a55-a0bd-4196-815b-d1c24564cd32"
   },
   "outputs": [
    {
     "name": "stdout",
     "output_type": "stream",
     "text": [
      "tensor([[-0.2763,  1.4851,  0.8592,  ...,  0.6936,  0.4123, -1.3256],\n",
      "        [-1.3354, -0.4737,  1.7303,  ...,  0.0629,  0.4408,  1.1160],\n",
      "        [ 0.1529, -0.1582,  0.4712,  ..., -1.2187,  1.0324,  0.2002],\n",
      "        ...,\n",
      "        [-0.7320, -0.3765, -0.2685,  ...,  0.7667, -1.1815, -0.9507],\n",
      "        [-0.4715,  0.1284, -0.2211,  ..., -0.3990,  0.6457,  0.1315],\n",
      "        [ 0.5461,  0.4456,  0.5588,  ..., -1.2041, -1.6152, -0.0072]],\n",
      "       requires_grad=True)\n"
     ]
    }
   ],
   "source": [
    "print(F)"
   ]
  },
  {
   "cell_type": "markdown",
   "metadata": {},
   "source": [
    "We can see that our two matrices now exist to embed films and movies. Furthermore, when we transpose one matrix and multiply with the other, we get a matrix with shape equal to size M, see below."
   ]
  },
  {
   "cell_type": "code",
   "execution_count": 41,
   "metadata": {},
   "outputs": [],
   "source": [
    "M_hat = (F @ U.T)"
   ]
  },
  {
   "cell_type": "markdown",
   "metadata": {},
   "source": [
    "We can use this to create a loss function between our created matrix M_hat and true matrix M, then backpropagate to the embedding networks.\n",
    "\n",
    "We follow the Google tutorial [here](https://developers.google.com/machine-learning/recommendation/collaborative/matrix) and perform Weighted Matrix Factorization.\n",
    "\n",
    "The 'weighted' element here comes from the loss function. Because our co-occurrences are distributed sparsely, our model has the option early to learn most effectively by simply classifying every (movie, user) pair as 0. So, we weight the loss from co-occurrences much more highly than the non-co-occurences.\n",
    "\n",
    "The way we do this is by first masking out the non-occurrences and finding the difference between M and M_hat. This provides the loss for the co-occurrences. Next we do the inverse, masking out the co-occurrences to get the loss for the non-occurrences. Then we add the losses together in a weighted fashion. Simple, right!"
   ]
  },
  {
   "cell_type": "code",
   "execution_count": 42,
   "metadata": {
    "id": "Uh2P5klee82X"
   },
   "outputs": [],
   "source": [
    "M = M.to(device)\n",
    "optim = torch.optim.Adam([U, F], 0.01)\n",
    "# optim = torch.optim.AdamW([U, F], 0.01)"
   ]
  },
  {
   "cell_type": "code",
   "execution_count": 43,
   "metadata": {
    "id": "_K8IS0WTe82X"
   },
   "outputs": [],
   "source": [
    "def training_loop(display):\n",
    "    M_hat = F @ U.T\n",
    "    difference = M - M_hat\n",
    "    loss_1 = (difference * M) ** 2\n",
    "    non_observation_mask = 1 - M\n",
    "    loss_2 = (difference * non_observation_mask) ** 2\n",
    "    loss = loss_1 + (0.005 * loss_2)\n",
    "    loss = loss.mean()\n",
    "    loss.backward()\n",
    "    optim.step()\n",
    "    optim.zero_grad()\n",
    "    if display:\n",
    "        print(loss.item())"
   ]
  },
  {
   "cell_type": "code",
   "execution_count": 44,
   "metadata": {
    "id": "FHLIVQMxe82X",
    "outputId": "989b9458-f443-4925-81cb-5c7053970af9"
   },
   "outputs": [
    {
     "name": "stdout",
     "output_type": "stream",
     "text": [
      "7.837498664855957\n",
      "0.16416901350021362\n",
      "0.049234651029109955\n",
      "0.017719188705086708\n",
      "0.007146541960537434\n"
     ]
    }
   ],
   "source": [
    "for i in range(500):\n",
    "    display = True if i % 100 == 0 else False\n",
    "    training_loop(display)\n"
   ]
  },
  {
   "cell_type": "markdown",
   "metadata": {},
   "source": [
    "The loss is decreasing, which means M_hat is increasingly similar to M. Lets check that out directly below."
   ]
  },
  {
   "cell_type": "code",
   "execution_count": 45,
   "metadata": {
    "id": "XLtVV7Ele82X",
    "outputId": "264489e9-ef72-4f2b-83e1-3f78170ab1b2"
   },
   "outputs": [
    {
     "data": {
      "text/plain": [
       "tensor([0., 0., 0., 0., 0., 0., 1., 0., 0., 0., 0., 0., 0., 0., 0., 0., 0., 0.,\n",
       "        0., 0., 0., 0., 0., 0., 0., 0., 0., 0., 0., 0., 0., 0., 0., 0., 0., 0.,\n",
       "        0., 0., 0., 0., 0., 0., 0., 1., 0., 0., 0., 0., 0., 0., 0., 0., 0., 0.,\n",
       "        0.])"
      ]
     },
     "execution_count": 45,
     "metadata": {},
     "output_type": "execute_result"
    }
   ],
   "source": [
    "M[:,0]"
   ]
  },
  {
   "cell_type": "code",
   "execution_count": 46,
   "metadata": {
    "id": "H5kG-dBNe82Y",
    "outputId": "5b98e890-1f07-49d4-ad6c-2a983885ae61"
   },
   "outputs": [
    {
     "data": {
      "text/plain": [
       "tensor([-0.6049,  0.5890, -0.0720,  0.6496,  0.2351, -0.2105,  0.9986,  0.1618,\n",
       "         0.2783,  0.0288,  0.2330,  0.5394,  0.7391, -0.8873,  0.1142, -0.1725,\n",
       "         0.5930, -0.6978, -0.6730,  0.0090,  0.1877, -0.3310,  0.1762, -0.6618,\n",
       "         0.0756,  0.7980, -0.5159, -0.5512, -0.1191,  0.0893, -0.1093, -0.0622,\n",
       "        -0.7080,  0.5581, -0.1991,  1.7017,  0.3186,  0.1285, -0.2221,  0.3530,\n",
       "        -0.2360,  0.0185,  0.3755,  0.9985,  0.0926, -0.0700,  0.0249,  0.1023,\n",
       "        -0.1634, -0.0845,  0.0854, -0.3388, -0.2578, -0.4634, -0.8617],\n",
       "       grad_fn=<SelectBackward0>)"
      ]
     },
     "execution_count": 46,
     "metadata": {},
     "output_type": "execute_result"
    }
   ],
   "source": [
    "(F @ U.T)[:,0]"
   ]
  },
  {
   "cell_type": "markdown",
   "metadata": {},
   "source": [
    "Sure enough, our positive co-occurrences are near 1, and our negative occurrences nearby 0. We did it! One additional potential improvement we could add is an element-wise sigmoid function to our M_hat to get all our outputs near 1."
   ]
  },
  {
   "cell_type": "code",
   "execution_count": 47,
   "metadata": {},
   "outputs": [],
   "source": [
    "sigmoid = torch.nn.Sigmoid()\n",
    "\n",
    "def training_loop(display):\n",
    "    M_hat = sigmoid(F @ U.T)\n",
    "    difference = M - M_hat\n",
    "    loss_1 = (difference * M) ** 2\n",
    "    non_observation_mask = 1 - M\n",
    "    loss_2 = (difference * non_observation_mask) ** 2\n",
    "    loss = loss_1 + (0.005 * loss_2)\n",
    "    loss = loss.mean()\n",
    "    loss.backward()\n",
    "    optim.step()\n",
    "    optim.zero_grad()\n",
    "    if display:\n",
    "        print(loss.item())"
   ]
  },
  {
   "cell_type": "code",
   "execution_count": 48,
   "metadata": {},
   "outputs": [
    {
     "name": "stdout",
     "output_type": "stream",
     "text": [
      "0.0037430201191455126\n",
      "0.0015117130242288113\n",
      "0.001323428936302662\n",
      "0.001205727458000183\n",
      "0.0010979470098391175\n"
     ]
    }
   ],
   "source": [
    "for i in range(500):\n",
    "    display = True if i % 100 == 0 else False\n",
    "    training_loop(display)\n"
   ]
  },
  {
   "cell_type": "code",
   "execution_count": 49,
   "metadata": {},
   "outputs": [
    {
     "data": {
      "text/plain": [
       "tensor([0.2467, 0.3234, 0.4167, 0.4811, 0.2838, 0.3243, 0.9743, 0.4059, 0.4315,\n",
       "        0.4250, 0.3269, 0.7541, 0.4396, 0.2154, 0.2898, 0.5333, 0.2120, 0.1789,\n",
       "        0.1518, 0.2833, 0.5068, 0.3030, 0.3453, 0.0461, 0.3297, 0.5003, 0.5712,\n",
       "        0.3456, 0.3489, 0.8150, 0.4576, 0.2567, 0.1130, 0.6282, 0.2995, 0.7271,\n",
       "        0.3502, 0.3140, 0.2128, 0.4433, 0.2292, 0.2017, 0.3230, 0.9657, 0.3362,\n",
       "        0.2838, 0.3238, 0.6214, 0.2069, 0.7559, 0.2875, 0.1604, 0.2630, 0.1938,\n",
       "        0.4128], grad_fn=<SigmoidBackward0>)"
      ]
     },
     "execution_count": 49,
     "metadata": {},
     "output_type": "execute_result"
    }
   ],
   "source": [
    "sigmoid((F @ U.T)[:,0])"
   ]
  },
  {
   "cell_type": "markdown",
   "metadata": {},
   "source": [
    "Interestingly, this doesn't actually provide us much of a benefit. In fact, it does a little worse than where we were before."
   ]
  },
  {
   "cell_type": "markdown",
   "metadata": {},
   "source": [
    "## Appendix\n",
    "\n",
    "### Optimizer\n",
    "\n",
    "The choice of optimizer happens to be very important. Try training again but substituting AdamW for the much more simple optimizer, SGD. You'll notice the training happens MUCH slower."
   ]
  },
  {
   "cell_type": "code",
   "execution_count": 54,
   "metadata": {},
   "outputs": [],
   "source": [
    "U = torch.randn(len(unique_users), embedding_dimension, requires_grad=True, device=device)\n",
    "F = torch.randn(len(unique_movies), embedding_dimension, requires_grad=True, device=device)\n",
    "optim = torch.optim.SGD([U, F], lr=0.01)"
   ]
  },
  {
   "cell_type": "code",
   "execution_count": 55,
   "metadata": {},
   "outputs": [],
   "source": [
    "def training_loop(display):\n",
    "    M_hat = F @ U.T\n",
    "    difference = M - M_hat\n",
    "    loss_1 = (difference * M) ** 2\n",
    "    non_observation_mask = 1 - M\n",
    "    loss_2 = (difference * non_observation_mask) ** 2\n",
    "    loss = loss_1 + (0.005 * loss_2)\n",
    "    loss = loss.mean()\n",
    "    loss.backward()\n",
    "    optim.step()\n",
    "    optim.zero_grad()\n",
    "    if display:\n",
    "        print(loss.item())"
   ]
  },
  {
   "cell_type": "code",
   "execution_count": 52,
   "metadata": {},
   "outputs": [
    {
     "name": "stdout",
     "output_type": "stream",
     "text": [
      "7.5186028480529785\n",
      "7.424254894256592\n",
      "7.332400321960449\n",
      "7.242955207824707\n",
      "7.155838489532471\n"
     ]
    }
   ],
   "source": [
    "for i in range(500):\n",
    "    display = True if i % 100 == 0 else False\n",
    "    training_loop(display)"
   ]
  },
  {
   "cell_type": "markdown",
   "metadata": {},
   "source": [
    "Interesting, right? Let's dig into this a bit more.\n",
    "\n",
    "There are a few key differences between SGD and Adam. SGD on its own is effectively gradient descent at its most basic. It **only** takes the derivative of the loss with respect to each parameter and then descends the gradient to try and reach a minimum.\n",
    "\n",
    "Adam is SGD with a few improvements:\n",
    "\n",
    "1. Momentum: Adam essentially uses exponentially decaying gradients from previous updates to give the current weight update the context of previous updates. The consequence of this is that if previous updates tell us to adjust a weight in some way, and current updates tell us to adjust a weight in the same direction, the magnitude of the weight update will be increased. The key to this is the intuition of momentum -- previous motion in the weights has some impact on current motion.\n",
    "2. Adaptive Learning Rates: If certain parameters are only seen rarely in learning, Adam will scale up the gradient update.\n",
    "\n",
    "We can add momentum to our SGD algorithm. Lets see how much that gets us."
   ]
  },
  {
   "cell_type": "code",
   "execution_count": 53,
   "metadata": {},
   "outputs": [
    {
     "name": "stdout",
     "output_type": "stream",
     "text": [
      "7.070968151092529\n",
      "6.383721828460693\n",
      "5.7834391593933105\n",
      "5.301899433135986\n",
      "4.906630992889404\n"
     ]
    }
   ],
   "source": [
    "optim = torch.optim.SGD([U, F], momentum=0.9, lr=0.01)\n",
    "\n",
    "for i in range(500):\n",
    "    display = True if i % 100 == 0 else False\n",
    "    training_loop(display)"
   ]
  },
  {
   "cell_type": "markdown",
   "metadata": {},
   "source": [
    "That's a large improvement. However, there's still a **big** difference between Adam and SGD. And this makes sense. Our matrix is largely sparse, and embeddings (especially for users) are updated only a few times each epoch. Having adaptive learning rates which learn a lot for those users makes sense. Lets take away the momentum and just look at adaptive learning. \n",
    "\n",
    "We can do this using AdaGrad, which solely modifies SGD to magnify rare (or regularly small) parameter updates."
   ]
  },
  {
   "cell_type": "code",
   "execution_count": 57,
   "metadata": {},
   "outputs": [
    {
     "name": "stdout",
     "output_type": "stream",
     "text": [
      "7.720456600189209\n",
      "1.0821443796157837\n",
      "0.6589827537536621\n",
      "0.5082014799118042\n",
      "0.4277366101741791\n"
     ]
    }
   ],
   "source": [
    "optim = torch.optim.Adagrad([U, F], lr=0.01)\n",
    "\n",
    "for i in range(500):\n",
    "    display = True if i % 100 == 0 else False\n",
    "    training_loop(display)"
   ]
  },
  {
   "cell_type": "markdown",
   "metadata": {},
   "source": [
    "This gets us most of the way to Adam's performance! So, adaptive learning weights turn out to be *crucial* for learning in these sorts of factorization problems. Good to know!\n",
    "\n",
    "Thank you for following along in this tutorial with me. I hope its been some help. Happy optimizing 👋🤖"
   ]
  },
  {
   "cell_type": "markdown",
   "metadata": {},
   "source": []
  }
 ],
 "metadata": {
  "colab": {
   "provenance": []
  },
  "kaggle": {
   "accelerator": "nvidiaTeslaT4",
   "dataSources": [
    {
     "datasetId": 1636,
     "sourceId": 792972,
     "sourceType": "datasetVersion"
    }
   ],
   "dockerImageVersionId": 30746,
   "isGpuEnabled": true,
   "isInternetEnabled": false,
   "language": "python",
   "sourceType": "notebook"
  },
  "kernelspec": {
   "display_name": "Python 3 (ipykernel)",
   "language": "python",
   "name": "python3"
  },
  "language_info": {
   "codemirror_mode": {
    "name": "ipython",
    "version": 3
   },
   "file_extension": ".py",
   "mimetype": "text/x-python",
   "name": "python",
   "nbconvert_exporter": "python",
   "pygments_lexer": "ipython3",
   "version": "3.12.5"
  }
 },
 "nbformat": 4,
 "nbformat_minor": 4
}
