{
  "metadata": {
    "kernelspec": {
      "language": "python",
      "display_name": "Python 3",
      "name": "python3"
    },
    "language_info": {
      "name": "python",
      "version": "3.10.13",
      "mimetype": "text/x-python",
      "codemirror_mode": {
        "name": "ipython",
        "version": 3
      },
      "pygments_lexer": "ipython3",
      "nbconvert_exporter": "python",
      "file_extension": ".py"
    },
    "kaggle": {
      "accelerator": "nvidiaTeslaT4",
      "dataSources": [
        {
          "sourceId": 792972,
          "sourceType": "datasetVersion",
          "datasetId": 1636
        }
      ],
      "dockerImageVersionId": 30746,
      "isInternetEnabled": false,
      "language": "python",
      "sourceType": "notebook",
      "isGpuEnabled": true
    },
    "colab": {
      "provenance": []
    }
  },
  "nbformat_minor": 0,
  "nbformat": 4,
  "cells": [
    {
      "source": [
        "\n",
        "# IMPORTANT: RUN THIS CELL IN ORDER TO IMPORT YOUR KAGGLE DATA SOURCES\n",
        "# TO THE CORRECT LOCATION (/kaggle/input) IN YOUR NOTEBOOK,\n",
        "# THEN FEEL FREE TO DELETE THIS CELL.\n",
        "# NOTE: THIS NOTEBOOK ENVIRONMENT DIFFERS FROM KAGGLE'S PYTHON\n",
        "# ENVIRONMENT SO THERE MAY BE MISSING LIBRARIES USED BY YOUR\n",
        "# NOTEBOOK.\n",
        "\n",
        "import os\n",
        "import sys\n",
        "from tempfile import NamedTemporaryFile\n",
        "from urllib.request import urlopen\n",
        "from urllib.parse import unquote, urlparse\n",
        "from urllib.error import HTTPError\n",
        "from zipfile import ZipFile\n",
        "import tarfile\n",
        "import shutil\n",
        "\n",
        "CHUNK_SIZE = 40960\n",
        "DATA_SOURCE_MAPPING = 'netflix-prize-data:https%3A%2F%2Fstorage.googleapis.com%2Fkaggle-data-sets%2F1636%2F792972%2Fbundle%2Farchive.zip%3FX-Goog-Algorithm%3DGOOG4-RSA-SHA256%26X-Goog-Credential%3Dgcp-kaggle-com%2540kaggle-161607.iam.gserviceaccount.com%252F20240829%252Fauto%252Fstorage%252Fgoog4_request%26X-Goog-Date%3D20240829T141321Z%26X-Goog-Expires%3D259200%26X-Goog-SignedHeaders%3Dhost%26X-Goog-Signature%3D306c4ec68c9b4358ae4b02deb48e48cab0a3cc121784de97d17492d3640c897293acb8ebc9d7765bc9c44d58904b3a900289905c0313ed5462e1b41bc8ded42f25b74b7c29712f7c407bacc988972c41e09e43c63aaf32e53215b915f246b10aae426b2ea7ce13addf04c67d26148e8cc7d11646d96b5cf7de91c9c93acb4f1b20902d5397d1a37a2c60a85c0876938fbf8e8dc8cb71c1766b37083908ba54b6df89935c4764640d12339746c24005a2b35ec49a4936f3a6dac0a37c21e20cd5aa8c0c9852175b798d43a23fb23229689ca5e674c678b9c3f9add153276e0f8e0083dfdc1bcbb6e9900f589609280d37a0c3a30919e7e0ccb8a7fa2fcdece4eb'\n",
        "\n",
        "KAGGLE_INPUT_PATH='/kaggle/input'\n",
        "KAGGLE_WORKING_PATH='/kaggle/working'\n",
        "KAGGLE_SYMLINK='kaggle'\n",
        "\n",
        "!umount /kaggle/input/ 2> /dev/null\n",
        "shutil.rmtree('/kaggle/input', ignore_errors=True)\n",
        "os.makedirs(KAGGLE_INPUT_PATH, 0o777, exist_ok=True)\n",
        "os.makedirs(KAGGLE_WORKING_PATH, 0o777, exist_ok=True)\n",
        "\n",
        "try:\n",
        "  os.symlink(KAGGLE_INPUT_PATH, os.path.join(\"..\", 'input'), target_is_directory=True)\n",
        "except FileExistsError:\n",
        "  pass\n",
        "try:\n",
        "  os.symlink(KAGGLE_WORKING_PATH, os.path.join(\"..\", 'working'), target_is_directory=True)\n",
        "except FileExistsError:\n",
        "  pass\n",
        "\n",
        "for data_source_mapping in DATA_SOURCE_MAPPING.split(','):\n",
        "    directory, download_url_encoded = data_source_mapping.split(':')\n",
        "    download_url = unquote(download_url_encoded)\n",
        "    filename = urlparse(download_url).path\n",
        "    destination_path = os.path.join(KAGGLE_INPUT_PATH, directory)\n",
        "    try:\n",
        "        with urlopen(download_url) as fileres, NamedTemporaryFile() as tfile:\n",
        "            total_length = fileres.headers['content-length']\n",
        "            print(f'Downloading {directory}, {total_length} bytes compressed')\n",
        "            dl = 0\n",
        "            data = fileres.read(CHUNK_SIZE)\n",
        "            while len(data) > 0:\n",
        "                dl += len(data)\n",
        "                tfile.write(data)\n",
        "                done = int(50 * dl / int(total_length))\n",
        "                sys.stdout.write(f\"\\r[{'=' * done}{' ' * (50-done)}] {dl} bytes downloaded\")\n",
        "                sys.stdout.flush()\n",
        "                data = fileres.read(CHUNK_SIZE)\n",
        "            if filename.endswith('.zip'):\n",
        "              with ZipFile(tfile) as zfile:\n",
        "                zfile.extractall(destination_path)\n",
        "            else:\n",
        "              with tarfile.open(tfile.name) as tarfile:\n",
        "                tarfile.extractall(destination_path)\n",
        "            print(f'\\nDownloaded and uncompressed: {directory}')\n",
        "    except HTTPError as e:\n",
        "        print(f'Failed to load (likely expired) {download_url} to path {destination_path}')\n",
        "        continue\n",
        "    except OSError as e:\n",
        "        print(f'Failed to load {download_url} to path {destination_path}')\n",
        "        continue\n",
        "\n",
        "print('Data source import complete.')\n"
      ],
      "metadata": {
        "id": "WP_ACahpe82R"
      },
      "cell_type": "code",
      "outputs": [],
      "execution_count": null
    },
    {
      "cell_type": "code",
      "source": [
        "# This Python 3 environment comes with many helpful analytics libraries installed\n",
        "# It is defined by the kaggle/python Docker image: https://github.com/kaggle/docker-python\n",
        "# For example, here's several helpful packages to load\n",
        "\n",
        "import numpy as np # linear algebra\n",
        "import pandas as pd # data processing, CSV file I/O (e.g. pd.read_csv)\n",
        "import torch\n",
        "\n",
        "# Input data files are available in the read-only \"../input/\" directory\n",
        "# For example, running this (by clicking run or pressing Shift+Enter) will list all files under the input directory\n",
        "\n",
        "import os\n",
        "for dirname, _, filenames in os.walk('/kaggle/input'):\n",
        "    for filename in filenames:\n",
        "        print(os.path.join(dirname, filename))\n",
        "\n",
        "# You can write up to 20GB to the current directory (/kaggle/working/) that gets preserved as output when you create a version using \"Save & Run All\"\n",
        "# You can also write temporary files to /kaggle/temp/, but they won't be saved outside of the current session"
      ],
      "metadata": {
        "_uuid": "8f2839f25d086af736a60e9eeb907d3b93b6e0e5",
        "_cell_guid": "b1076dfc-b9ad-4769-8c92-a6c4dae69d19",
        "execution": {
          "iopub.status.busy": "2024-08-14T11:24:22.090189Z",
          "iopub.execute_input": "2024-08-14T11:24:22.090961Z",
          "iopub.status.idle": "2024-08-14T11:24:26.077041Z",
          "shell.execute_reply.started": "2024-08-14T11:24:22.090926Z",
          "shell.execute_reply": "2024-08-14T11:24:26.076038Z"
        },
        "trusted": true,
        "id": "e-W_CHdBe82T",
        "outputId": "a790d3ac-672e-4af8-9604-37a5654246a0"
      },
      "execution_count": null,
      "outputs": [
        {
          "name": "stdout",
          "text": "/kaggle/input/netflix-prize-data/combined_data_3.txt\n/kaggle/input/netflix-prize-data/movie_titles.csv\n/kaggle/input/netflix-prize-data/combined_data_4.txt\n/kaggle/input/netflix-prize-data/combined_data_1.txt\n/kaggle/input/netflix-prize-data/README\n/kaggle/input/netflix-prize-data/probe.txt\n/kaggle/input/netflix-prize-data/combined_data_2.txt\n/kaggle/input/netflix-prize-data/qualifying.txt\n",
          "output_type": "stream"
        }
      ]
    },
    {
      "cell_type": "markdown",
      "source": [
        "## Part 1: Data\n",
        "\n",
        "We iterate through the text files and prepare the matrix M."
      ],
      "metadata": {
        "id": "nwTJ9mS5e82U"
      }
    },
    {
      "cell_type": "code",
      "source": [
        "import re\n",
        "import tqdm\n",
        "\n",
        "movie_expression = re.compile(r\"(\\d+):\")\n",
        "\n",
        "def parse(lines: list):\n",
        "    movie_id = None\n",
        "    movies_and_users = []\n",
        "    for line in tqdm.tqdm(lines):\n",
        "        is_movie = movie_expression.search(line)\n",
        "        if is_movie:\n",
        "            movie_id = is_movie.groups()[0]\n",
        "            continue\n",
        "        user_id, _, _ = line.split(',')\n",
        "        movies_and_users.append((int(movie_id), int(user_id)))\n",
        "    return movies_and_users"
      ],
      "metadata": {
        "execution": {
          "iopub.status.busy": "2024-08-14T11:24:34.417383Z",
          "iopub.execute_input": "2024-08-14T11:24:34.417924Z",
          "iopub.status.idle": "2024-08-14T11:24:34.424964Z",
          "shell.execute_reply.started": "2024-08-14T11:24:34.417891Z",
          "shell.execute_reply": "2024-08-14T11:24:34.424063Z"
        },
        "trusted": true,
        "id": "OWl2KHtMe82V"
      },
      "execution_count": null,
      "outputs": []
    },
    {
      "cell_type": "code",
      "source": [
        "files = [\n",
        "    \"/kaggle/input/netflix-prize-data/combined_data_3.txt\",\n",
        "#     \"/kaggle/input/netflix-prize-data/combined_data_4.txt\",\n",
        "#     \"/kaggle/input/netflix-prize-data/combined_data_1.txt\",\n",
        "#     \"/kaggle/input/netflix-prize-data/combined_data_2.txt\"\n",
        "]\n",
        "movies_and_users = []\n",
        "for f in files:\n",
        "    print(f'processing file {f}')\n",
        "    with open(f, \"r\") as raw_text:\n",
        "        lines = raw_text.readlines()\n",
        "    movies_and_users.extend(parse(lines[:260578]))\n",
        "    print(f'completed processing file {f}')\n"
      ],
      "metadata": {
        "execution": {
          "iopub.status.busy": "2024-08-14T11:24:36.94426Z",
          "iopub.execute_input": "2024-08-14T11:24:36.944646Z",
          "iopub.status.idle": "2024-08-14T11:24:46.0384Z",
          "shell.execute_reply.started": "2024-08-14T11:24:36.944602Z",
          "shell.execute_reply": "2024-08-14T11:24:46.037493Z"
        },
        "trusted": true,
        "id": "byE-so_ee82V",
        "outputId": "fad7273a-77bd-46b7-8195-cd1bcf4a3792"
      },
      "execution_count": null,
      "outputs": [
        {
          "name": "stdout",
          "text": "processing file /kaggle/input/netflix-prize-data/combined_data_3.txt\n",
          "output_type": "stream"
        },
        {
          "name": "stderr",
          "text": "100%|██████████| 260578/260578 [00:01<00:00, 144890.65it/s]",
          "output_type": "stream"
        },
        {
          "name": "stdout",
          "text": "completed processing file /kaggle/input/netflix-prize-data/combined_data_3.txt\n",
          "output_type": "stream"
        },
        {
          "name": "stderr",
          "text": "\n",
          "output_type": "stream"
        }
      ]
    },
    {
      "cell_type": "code",
      "source": [
        "movies, users = zip(*movies_and_users)"
      ],
      "metadata": {
        "execution": {
          "iopub.status.busy": "2024-08-14T11:25:15.640462Z",
          "iopub.execute_input": "2024-08-14T11:25:15.641305Z",
          "iopub.status.idle": "2024-08-14T11:25:17.019801Z",
          "shell.execute_reply.started": "2024-08-14T11:25:15.64127Z",
          "shell.execute_reply": "2024-08-14T11:25:17.01879Z"
        },
        "trusted": true,
        "id": "cflIMjOae82V",
        "outputId": "5a49ca34-1f59-4a12-96a6-a20498a27f39"
      },
      "execution_count": null,
      "outputs": [
        {
          "name": "stdout",
          "text": "[(9211, 1277134), (9211, 2435457), (9211, 2338545), (9211, 2218269), (9211, 441153), (9211, 1921624), (9211, 2096652), (9211, 818736), (9211, 284560), (9211, 1211224)]\n",
          "output_type": "stream"
        }
      ]
    },
    {
      "cell_type": "code",
      "source": [
        "print(movies_and_users[:10])\n",
        "print(movies[:5])\n",
        "print(users[:5])"
      ],
      "metadata": {
        "execution": {
          "iopub.status.busy": "2024-08-14T11:25:33.578815Z",
          "iopub.execute_input": "2024-08-14T11:25:33.579157Z",
          "iopub.status.idle": "2024-08-14T11:25:33.584329Z",
          "shell.execute_reply.started": "2024-08-14T11:25:33.579132Z",
          "shell.execute_reply": "2024-08-14T11:25:33.583447Z"
        },
        "trusted": true,
        "id": "Rw5nAqM8e82W",
        "outputId": "1b92ab82-ea6e-42a7-a2ae-da40f0f6c1f3"
      },
      "execution_count": null,
      "outputs": [
        {
          "name": "stdout",
          "text": "[(9211, 1277134), (9211, 2435457), (9211, 2338545), (9211, 2218269), (9211, 441153), (9211, 1921624), (9211, 2096652), (9211, 818736), (9211, 284560), (9211, 1211224)]\n(9211, 9211, 9211, 9211, 9211)\n(1277134, 2435457, 2338545, 2218269, 441153)\n",
          "output_type": "stream"
        }
      ]
    },
    {
      "cell_type": "code",
      "source": [
        "unique_movies = sorted(list(set(movies)))\n",
        "unique_users = sorted(list(set(users)))\n",
        "\n",
        "movie_to_idx = {movie: i for i, movie in enumerate(unique_movies)}\n",
        "user_to_idx = {user: i for i, user in enumerate(unique_users)}\n",
        "\n",
        "normalised_movies = [movie_to_idx[m] for m in movies]\n",
        "normalised_users = [user_to_idx[u] for u in users]\n",
        "\n",
        "M = torch.zeros(len(unique_movies), len(unique_users))\n",
        "normalised_movies_and_users = list(zip(normalised_movies, normalised_users))"
      ],
      "metadata": {
        "execution": {
          "iopub.status.busy": "2024-08-14T11:29:50.764696Z",
          "iopub.execute_input": "2024-08-14T11:29:50.765024Z",
          "iopub.status.idle": "2024-08-14T11:29:50.974323Z",
          "shell.execute_reply.started": "2024-08-14T11:29:50.765Z",
          "shell.execute_reply": "2024-08-14T11:29:50.973546Z"
        },
        "trusted": true,
        "id": "DkjDWcoRe82W"
      },
      "execution_count": null,
      "outputs": []
    },
    {
      "cell_type": "code",
      "source": [
        "M.shape"
      ],
      "metadata": {
        "execution": {
          "iopub.status.busy": "2024-08-14T11:29:51.428682Z",
          "iopub.execute_input": "2024-08-14T11:29:51.429038Z",
          "iopub.status.idle": "2024-08-14T11:29:51.434846Z",
          "shell.execute_reply.started": "2024-08-14T11:29:51.429009Z",
          "shell.execute_reply": "2024-08-14T11:29:51.434033Z"
        },
        "trusted": true,
        "id": "v9NYgHLDe82W",
        "outputId": "664daa05-8165-49e6-8653-e8ed8e82d1a2"
      },
      "execution_count": null,
      "outputs": [
        {
          "execution_count": 17,
          "output_type": "execute_result",
          "data": {
            "text/plain": "torch.Size([55, 142475])"
          },
          "metadata": {}
        }
      ]
    },
    {
      "cell_type": "code",
      "source": [
        "for movie, user in normalised_movies_and_users:\n",
        "    M[movie, user] = 1"
      ],
      "metadata": {
        "execution": {
          "iopub.status.busy": "2024-08-14T11:29:51.991973Z",
          "iopub.execute_input": "2024-08-14T11:29:51.992337Z",
          "iopub.status.idle": "2024-08-14T11:29:53.980714Z",
          "shell.execute_reply.started": "2024-08-14T11:29:51.992305Z",
          "shell.execute_reply": "2024-08-14T11:29:53.97993Z"
        },
        "trusted": true,
        "id": "G7XcYN7oe82W"
      },
      "execution_count": null,
      "outputs": []
    },
    {
      "cell_type": "code",
      "source": [],
      "metadata": {
        "execution": {
          "iopub.status.busy": "2024-08-14T11:39:46.74247Z",
          "iopub.execute_input": "2024-08-14T11:39:46.743498Z",
          "iopub.status.idle": "2024-08-14T11:39:46.818718Z",
          "shell.execute_reply.started": "2024-08-14T11:39:46.743461Z",
          "shell.execute_reply": "2024-08-14T11:39:46.817648Z"
        },
        "trusted": true,
        "id": "R7MEEvsAe82X",
        "outputId": "558a1e0a-50c1-4096-dafe-e8b7d0a7f8e3"
      },
      "execution_count": null,
      "outputs": [
        {
          "traceback": [
            "\u001b[0;31m---------------------------------------------------------------------------\u001b[0m",
            "\u001b[0;31mNameError\u001b[0m                                 Traceback (most recent call last)",
            "Cell \u001b[0;32mIn[36], line 2\u001b[0m\n\u001b[1;32m      1\u001b[0m M[\u001b[38;5;241m30\u001b[39m, \u001b[38;5;241m100\u001b[39m]\n\u001b[0;32m----> 2\u001b[0m \u001b[43mestimation\u001b[49m[\u001b[38;5;241m30\u001b[39m,\u001b[38;5;241m100\u001b[39m]\n",
            "\u001b[0;31mNameError\u001b[0m: name 'estimation' is not defined"
          ],
          "ename": "NameError",
          "evalue": "name 'estimation' is not defined",
          "output_type": "error"
        }
      ]
    },
    {
      "cell_type": "markdown",
      "source": [
        "# Recommendation\n",
        "\n",
        "This is hacking the Netflix prize dataset to do a slightly different task: predicting what movies users will be interested in. This is **not** ratings based.\n",
        "\n",
        "There are two methods I'll explore in this notebook. The first is matrix factorization. The second is a DNN two tower approach to recommendation.\n",
        "\n",
        "## Matrix Factorization\n",
        "\n",
        "This involves generating a matrix M of all films and all viewers, with the value of each index *i,j* corresponding to whether a given user *i* watched film *j*. This matrix is factorised into two smaller matrices U, F which represent embeddings for users and films respectively. We can iteratively hold each matrix constant while we tune the other to better match the results in M.\n"
      ],
      "metadata": {
        "id": "_Zqhwngye82X"
      }
    },
    {
      "cell_type": "code",
      "source": [
        "embedding_dimension = 200\n",
        "\n",
        "user_embedding = torch.rand(len(unique_users), embedding_dimension, requires_grad=True, device=\"cuda\")\n",
        "movie_embedding = torch.rand(len(unique_movies), embedding_dimension, requires_grad=True, device=\"cuda\")\n",
        "\n",
        "optim = torch.optim.AdamW([user_embedding, movie_embedding], 0.01)"
      ],
      "metadata": {
        "execution": {
          "iopub.status.busy": "2024-08-14T11:53:00.705549Z",
          "iopub.execute_input": "2024-08-14T11:53:00.706407Z",
          "iopub.status.idle": "2024-08-14T11:53:00.712184Z",
          "shell.execute_reply.started": "2024-08-14T11:53:00.706372Z",
          "shell.execute_reply": "2024-08-14T11:53:00.711166Z"
        },
        "trusted": true,
        "id": "Cwbwky6Te82X"
      },
      "execution_count": null,
      "outputs": []
    },
    {
      "cell_type": "code",
      "source": [
        "print(movie_embedding)"
      ],
      "metadata": {
        "execution": {
          "iopub.status.busy": "2024-08-14T11:53:01.237282Z",
          "iopub.execute_input": "2024-08-14T11:53:01.237958Z",
          "iopub.status.idle": "2024-08-14T11:53:01.24603Z",
          "shell.execute_reply.started": "2024-08-14T11:53:01.237921Z",
          "shell.execute_reply": "2024-08-14T11:53:01.245108Z"
        },
        "trusted": true,
        "id": "_umWgQeoe82X",
        "outputId": "06234a55-a0bd-4196-815b-d1c24564cd32"
      },
      "execution_count": null,
      "outputs": [
        {
          "name": "stdout",
          "text": "tensor([[0.0244, 0.4842, 0.5832,  ..., 0.1868, 0.6940, 0.9109],\n        [0.9169, 0.1311, 0.5093,  ..., 0.3601, 0.9317, 0.1824],\n        [0.6454, 0.2390, 0.4221,  ..., 0.5914, 0.7822, 0.6516],\n        ...,\n        [0.6624, 0.2916, 0.2972,  ..., 0.7648, 0.3581, 0.3114],\n        [0.2482, 0.5220, 0.0044,  ..., 0.9718, 0.8334, 0.6170],\n        [0.2406, 0.1570, 0.2425,  ..., 0.6509, 0.1521, 0.5417]],\n       device='cuda:0', requires_grad=True)\n",
          "output_type": "stream"
        }
      ]
    },
    {
      "cell_type": "code",
      "source": [
        "M = M.to(\"cuda\")"
      ],
      "metadata": {
        "execution": {
          "iopub.status.busy": "2024-08-14T11:53:01.605789Z",
          "iopub.execute_input": "2024-08-14T11:53:01.606093Z",
          "iopub.status.idle": "2024-08-14T11:53:01.610169Z",
          "shell.execute_reply.started": "2024-08-14T11:53:01.606066Z",
          "shell.execute_reply": "2024-08-14T11:53:01.609297Z"
        },
        "trusted": true,
        "id": "Uh2P5klee82X"
      },
      "execution_count": null,
      "outputs": []
    },
    {
      "cell_type": "code",
      "source": [
        "def training_loop(display):\n",
        "    estimation = movie_embedding @ user_embedding.T\n",
        "    difference = M - estimation\n",
        "    loss_1 = (difference * M) ** 2\n",
        "    non_observation_mask = 1 - M\n",
        "    loss_2 = (difference * non_observation_mask) ** 2\n",
        "    loss = loss_1 + (0.005 * loss_2)\n",
        "    loss = loss.mean()\n",
        "    loss.backward()\n",
        "    optim.step()\n",
        "    optim.zero_grad()\n",
        "    if display:\n",
        "        print(loss.item())"
      ],
      "metadata": {
        "execution": {
          "iopub.status.busy": "2024-08-14T11:52:38.326731Z",
          "iopub.execute_input": "2024-08-14T11:52:38.327214Z",
          "iopub.status.idle": "2024-08-14T11:52:38.33299Z",
          "shell.execute_reply.started": "2024-08-14T11:52:38.327186Z",
          "shell.execute_reply": "2024-08-14T11:52:38.331904Z"
        },
        "trusted": true,
        "id": "_K8IS0WTe82X"
      },
      "execution_count": null,
      "outputs": []
    },
    {
      "cell_type": "code",
      "source": [
        "for i in range(500):\n",
        "    display = True if i % 100 == 0 else False\n",
        "    training_loop(display)\n"
      ],
      "metadata": {
        "execution": {
          "iopub.status.busy": "2024-08-14T11:52:40.298093Z",
          "iopub.execute_input": "2024-08-14T11:52:40.298452Z",
          "iopub.status.idle": "2024-08-14T11:52:49.078435Z",
          "shell.execute_reply.started": "2024-08-14T11:52:40.298421Z",
          "shell.execute_reply": "2024-08-14T11:52:49.07746Z"
        },
        "trusted": true,
        "id": "FHLIVQMxe82X",
        "outputId": "989b9458-f443-4925-81cb-5c7053970af9"
      },
      "execution_count": null,
      "outputs": [
        {
          "name": "stdout",
          "text": "64010020.0\n1240736.5\n365609.1875\n132669.453125\n54906.296875\n",
          "output_type": "stream"
        }
      ]
    },
    {
      "cell_type": "code",
      "source": [
        "M[:,0]"
      ],
      "metadata": {
        "execution": {
          "iopub.status.busy": "2024-08-14T11:49:59.33108Z",
          "iopub.execute_input": "2024-08-14T11:49:59.331429Z",
          "iopub.status.idle": "2024-08-14T11:49:59.339166Z",
          "shell.execute_reply.started": "2024-08-14T11:49:59.331399Z",
          "shell.execute_reply": "2024-08-14T11:49:59.33827Z"
        },
        "trusted": true,
        "id": "XLtVV7Ele82X",
        "outputId": "264489e9-ef72-4f2b-83e1-3f78170ab1b2"
      },
      "execution_count": null,
      "outputs": [
        {
          "execution_count": 50,
          "output_type": "execute_result",
          "data": {
            "text/plain": "tensor([0., 0., 0., 0., 0., 0., 1., 0., 0., 0., 0., 0., 0., 0., 0., 0., 0., 0.,\n        0., 0., 0., 0., 0., 0., 0., 0., 0., 0., 0., 0., 0., 0., 0., 0., 0., 0.,\n        0., 0., 0., 0., 0., 0., 0., 1., 0., 0., 0., 0., 0., 0., 0., 0., 0., 0.,\n        0.], device='cuda:0')"
          },
          "metadata": {}
        }
      ]
    },
    {
      "cell_type": "code",
      "source": [
        "(movie_embedding @ user_embedding.T)[:,0]"
      ],
      "metadata": {
        "execution": {
          "iopub.status.busy": "2024-08-14T11:50:09.65352Z",
          "iopub.execute_input": "2024-08-14T11:50:09.653933Z",
          "iopub.status.idle": "2024-08-14T11:50:09.662392Z",
          "shell.execute_reply.started": "2024-08-14T11:50:09.653905Z",
          "shell.execute_reply": "2024-08-14T11:50:09.661555Z"
        },
        "trusted": true,
        "id": "H5kG-dBNe82Y",
        "outputId": "5b98e890-1f07-49d4-ad6c-2a983885ae61"
      },
      "execution_count": null,
      "outputs": [
        {
          "execution_count": 51,
          "output_type": "execute_result",
          "data": {
            "text/plain": "tensor([ 4.2348e-02, -2.0404e-01,  8.2759e-02, -6.9402e-02,  2.2081e-02,\n        -6.3062e-02,  9.9884e-01, -8.6629e-02,  8.5866e-02,  4.3168e-02,\n         5.0588e-02, -2.7901e-02,  1.5058e-02,  1.0723e-02,  1.2094e-01,\n        -5.1137e-02,  4.0411e-03, -1.6790e-01,  1.0391e-02,  3.9309e-02,\n        -7.4312e-02,  5.5644e-03,  1.5956e-01,  6.8946e-02,  3.0017e-03,\n         5.7406e-02,  2.7226e-02, -1.4134e-02,  1.6059e-02, -2.6143e-02,\n         3.5589e-02, -2.7440e-02, -1.1342e-01,  1.9635e-02,  3.6988e-03,\n         1.0292e-01, -1.0080e-02, -5.2544e-02, -1.3273e-02,  3.9138e-02,\n        -7.5212e-02, -6.7361e-02,  4.6747e-02,  1.0001e+00, -1.0015e-01,\n         1.5583e-01, -7.0365e-02, -1.2481e-01, -1.6555e-02,  3.5837e-02,\n         6.2184e-02,  8.5819e-04,  1.8572e-03, -1.1998e-02,  3.9017e-02],\n       device='cuda:0', grad_fn=<SelectBackward0>)"
          },
          "metadata": {}
        }
      ]
    },
    {
      "cell_type": "markdown",
      "source": [
        "### DNNs"
      ],
      "metadata": {
        "id": "HLU91buye82Y"
      }
    }
  ]
}